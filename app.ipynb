{
 "cells": [
  {
   "cell_type": "markdown",
   "metadata": {},
   "source": [
    "# Simple Agent Example"
   ]
  },
  {
   "cell_type": "code",
   "execution_count": null,
   "metadata": {},
   "outputs": [],
   "source": [
    "from agents import Agent, Runner\n",
    "\n",
    "agent = Agent(name=\"Assistant\", instructions=\"You are a helpful assistant\")\n",
    "\n",
    "# Intended for Jupyter notebooks where there's an existing event loop\n",
    "result = await Runner.run(agent, \"Write a haiku about recursion in programming.\") # type: ignore[top-level-await]  # noqa: F704\n",
    "print(result.final_output)\n",
    "\n",
    "# Code within code loops,\n",
    "# Infinite mirrors reflect—\n",
    "# Logic folds on self."
   ]
  },
  {
   "cell_type": "markdown",
   "metadata": {},
   "source": [
    "# Handoffs example\n"
   ]
  },
  {
   "cell_type": "code",
   "execution_count": null,
   "metadata": {},
   "outputs": [],
   "source": [
    "from agents import Agent, Runner\n",
    "import asyncio # The asyncio library in Python is used for writing concurrent code using the async/await syntax\n",
    "\n",
    "coding_agent =Agent(name=\"Coding Assistant\", \n",
    "                    instructions=\"You are a helpful coding assistant\",\n",
    "                    handoff_description=\"Specialised agent for coding tasks\") \n",
    "\n",
    "debugging_agent = Agent(name=\"Debugging Assistant\", \n",
    "                        instructions=\"You are a helpful debugging assistant\",\n",
    "                        handoff_description=\"Specialised agent for debugging tasks\")   \n",
    "\n",
    "triage_agent = Agent(name=\"Triage Agent\", \n",
    "                     instructions=\"Hand off to the respective agent based on the request\", \n",
    "                     handoffs=[coding_agent,debugging_agent],\n",
    "                     handoff_description=\"Specialised agent for the delication of tasks\")\n",
    "\n",
    "# Main function\n",
    "async def main():\n",
    "    result = await Runner.run(triage_agent, \"Write a function to calculate the factorial of a number.\") # type: ignore[top-level-await]  # noqa: F704\n",
    "    print(result.final_output)\n",
    "\n",
    "if __name__ == \"__main__\":\n",
    "    await main()\n"
   ]
  },
  {
   "cell_type": "code",
   "execution_count": null,
   "metadata": {},
   "outputs": [],
   "source": []
  }
 ],
 "metadata": {
  "kernelspec": {
   "display_name": ".venv",
   "language": "python",
   "name": "python3"
  },
  "language_info": {
   "codemirror_mode": {
    "name": "ipython",
    "version": 3
   },
   "file_extension": ".py",
   "mimetype": "text/x-python",
   "name": "python",
   "nbconvert_exporter": "python",
   "pygments_lexer": "ipython3",
   "version": "3.13.0"
  }
 },
 "nbformat": 4,
 "nbformat_minor": 2
}
